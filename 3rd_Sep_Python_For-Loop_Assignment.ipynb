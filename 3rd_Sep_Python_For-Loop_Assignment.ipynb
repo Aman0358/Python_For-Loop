{
 "cells": [
  {
   "cell_type": "code",
   "execution_count": 1,
   "id": "66431f2b-e422-4974-aebc-349f2578fc56",
   "metadata": {},
   "outputs": [
    {
     "name": "stdout",
     "output_type": "stream",
     "text": [
      "1\n",
      "2\n",
      "3\n",
      "4\n",
      "5\n",
      "6\n",
      "7\n",
      "8\n",
      "9\n",
      "10\n"
     ]
    }
   ],
   "source": [
    "# Basic Level:\n",
    "# 1. Write a Python program to print the numbers from 1 to 10 using a `for` loop.\n",
    "for i in range(1, 11):\n",
    "    print(i)\n"
   ]
  },
  {
   "cell_type": "code",
   "execution_count": 2,
   "id": "5534087d-f2f9-4ff6-a831-1b85a1e2faba",
   "metadata": {},
   "outputs": [
    {
     "name": "stdout",
     "output_type": "stream",
     "text": [
      "The sum of the numbers is: 30\n"
     ]
    }
   ],
   "source": [
    "# 2. Create a program that calculates the sum of all numbers in a list using a `for` loop.\n",
    "# Define a list of numbers\n",
    "numbers = [2, 4, 6, 8, 10]\n",
    "\n",
    "# Initialize a variable to store the sum\n",
    "sum_of_numbers = 0\n",
    "\n",
    "# Iterate through the list and add each number to the sum\n",
    "for number in numbers:\n",
    "    sum_of_numbers += number\n",
    "\n",
    "# Print the sum\n",
    "print(\"The sum of the numbers is:\", sum_of_numbers)\n"
   ]
  },
  {
   "cell_type": "code",
   "execution_count": 3,
   "id": "69370cdc-ad23-422c-8f72-3c821a51d673",
   "metadata": {},
   "outputs": [
    {
     "name": "stdout",
     "output_type": "stream",
     "text": [
      "Reversed string: !dlroW ,olleH\n"
     ]
    }
   ],
   "source": [
    "# 3. Write a program to print the characters of a string in reverse order using a `for` loop.\n",
    "# Define a string\n",
    "input_string = \"Hello, World!\"\n",
    "\n",
    "# Initialize an empty string to store the reversed characters\n",
    "reversed_string = \"\"\n",
    "\n",
    "# Iterate through the characters of the input string in reverse order\n",
    "for char in reversed(input_string):\n",
    "    reversed_string += char\n",
    "\n",
    "# Print the reversed string\n",
    "print(\"Reversed string:\", reversed_string)\n"
   ]
  },
  {
   "cell_type": "code",
   "execution_count": 4,
   "id": "550b2c0b-339d-4954-acd5-5f6880c998cb",
   "metadata": {},
   "outputs": [
    {
     "name": "stdin",
     "output_type": "stream",
     "text": [
      "Enter a number:  5\n"
     ]
    },
    {
     "name": "stdout",
     "output_type": "stream",
     "text": [
      "The factorial of 5 is 120\n"
     ]
    }
   ],
   "source": [
    "# 4. Develop a program that finds the factorial of a given number using a `for` loop.\n",
    "# Input: Get the number for which you want to calculate the factorial\n",
    "num = int(input(\"Enter a number: \"))\n",
    "\n",
    "# Initialize a variable to store the factorial (start with 1 for the multiplication)\n",
    "factorial = 1\n",
    "\n",
    "# Check if the number is negative, zero, or positive\n",
    "if num < 0:\n",
    "    print(\"Factorial is not defined for negative numbers.\")\n",
    "elif num == 0:\n",
    "    print(\"The factorial of 0 is 1.\")\n",
    "else:\n",
    "    # Calculate the factorial using a for loop\n",
    "    for i in range(1, num + 1):\n",
    "        factorial *= i\n",
    "\n",
    "    # Print the factorial\n",
    "    print(f\"The factorial of {num} is {factorial}\")\n"
   ]
  },
  {
   "cell_type": "code",
   "execution_count": 5,
   "id": "f61a0610-c1dd-4e60-bc9b-d1bd93ee1080",
   "metadata": {},
   "outputs": [
    {
     "name": "stdin",
     "output_type": "stream",
     "text": [
      "Enter a number:  4\n"
     ]
    },
    {
     "name": "stdout",
     "output_type": "stream",
     "text": [
      "Multiplication table for 4:\n",
      "4 x 1 = 4\n",
      "4 x 2 = 8\n",
      "4 x 3 = 12\n",
      "4 x 4 = 16\n",
      "4 x 5 = 20\n",
      "4 x 6 = 24\n",
      "4 x 7 = 28\n",
      "4 x 8 = 32\n",
      "4 x 9 = 36\n",
      "4 x 10 = 40\n"
     ]
    }
   ],
   "source": [
    "# 5. Create a program to print the multiplication table of a given number using a `for` loop.\n",
    "# Input: Get the number for which you want to print the multiplication table\n",
    "num = int(input(\"Enter a number: \"))\n",
    "\n",
    "# Print the multiplication table using a for loop\n",
    "print(f\"Multiplication table for {num}:\")\n",
    "\n",
    "for i in range(1, 11):\n",
    "    product = num * i\n",
    "    print(f\"{num} x {i} = {product}\")\n"
   ]
  },
  {
   "cell_type": "code",
   "execution_count": 6,
   "id": "ab49f425-2217-4574-ab52-89496bdd04e1",
   "metadata": {},
   "outputs": [
    {
     "name": "stdout",
     "output_type": "stream",
     "text": [
      "Number of even numbers: 5\n",
      "Number of odd numbers: 3\n"
     ]
    }
   ],
   "source": [
    "# 6. Write a program that counts the number of even and odd numbers in a list using a `for` loop.\n",
    "# Define a list of numbers\n",
    "numbers = [2, 3, 6, 8, 9, 12, 15, 18]\n",
    "\n",
    "# Initialize counters for even and odd numbers\n",
    "even_count = 0\n",
    "odd_count = 0\n",
    "\n",
    "# Iterate through the list and count even and odd numbers\n",
    "for number in numbers:\n",
    "    if number % 2 == 0:\n",
    "        even_count += 1\n",
    "    else:\n",
    "        odd_count += 1\n",
    "\n",
    "# Print the counts\n",
    "print(\"Number of even numbers:\", even_count)\n",
    "print(\"Number of odd numbers:\", odd_count)\n"
   ]
  },
  {
   "cell_type": "code",
   "execution_count": 7,
   "id": "ef733c4b-d0e2-4dce-89b4-067955e7dfb9",
   "metadata": {},
   "outputs": [
    {
     "name": "stdout",
     "output_type": "stream",
     "text": [
      "The square of 1 is 1\n",
      "The square of 2 is 4\n",
      "The square of 3 is 9\n",
      "The square of 4 is 16\n",
      "The square of 5 is 25\n"
     ]
    }
   ],
   "source": [
    "# 7. Develop a program that prints the squares of numbers from 1 to 5 using a `for` loop.\n",
    "# Use a for loop to iterate from 1 to 5 (inclusive)\n",
    "for num in range(1, 6):\n",
    "    # Calculate the square of the current number\n",
    "    square = num * num\n",
    "    # Print the square\n",
    "    print(f\"The square of {num} is {square}\")\n"
   ]
  },
  {
   "cell_type": "code",
   "execution_count": 9,
   "id": "2b37140a-4743-4b86-9d47-eacc772c6495",
   "metadata": {},
   "outputs": [
    {
     "name": "stdin",
     "output_type": "stream",
     "text": [
      "Enter a string:  Awesome\n"
     ]
    },
    {
     "name": "stdout",
     "output_type": "stream",
     "text": [
      "Length of the string: 7\n"
     ]
    }
   ],
   "source": [
    "# 8. Create a program to find the length of a string without using the `len()` function.\n",
    "# Input: Get the string from the user\n",
    "input_string = input(\"Enter a string: \")\n",
    "\n",
    "# Initialize a counter for the length of the string\n",
    "length = 0\n",
    "\n",
    "# Iterate through the characters of the string and count them\n",
    "for char in input_string:\n",
    "    length += 1\n",
    "\n",
    "# Print the length of the string\n",
    "print(\"Length of the string:\", length)\n"
   ]
  },
  {
   "cell_type": "code",
   "execution_count": 10,
   "id": "25001c5a-629c-4674-9f8c-aa9f5393c178",
   "metadata": {},
   "outputs": [
    {
     "name": "stdout",
     "output_type": "stream",
     "text": [
      "Average: 30.0\n"
     ]
    }
   ],
   "source": [
    "# 9. Write a program that calculates the average of a list of numbers using a `for` loop.\n",
    "# Define a list of numbers\n",
    "numbers = [10, 20, 30, 40, 50]\n",
    "\n",
    "# Initialize variables for sum and count\n",
    "total = 0\n",
    "count = 0\n",
    "\n",
    "# Iterate through the list to calculate the sum and count\n",
    "for number in numbers:\n",
    "    total += number\n",
    "    count += 1\n",
    "\n",
    "# Calculate the average\n",
    "if count > 0:\n",
    "    average = total / count\n",
    "else:\n",
    "    average = 0\n",
    "\n",
    "# Print the average\n",
    "print(\"Average:\", average)\n"
   ]
  },
  {
   "cell_type": "code",
   "execution_count": 14,
   "id": "5b2fb3b9-aa12-4689-84a5-b51a2eeff66c",
   "metadata": {},
   "outputs": [
    {
     "name": "stdin",
     "output_type": "stream",
     "text": [
      "Enter the value of n:  6\n"
     ]
    },
    {
     "name": "stdout",
     "output_type": "stream",
     "text": [
      "The first 6 Fibonacci numbers are:\n",
      "0 1 1 2 3 5 "
     ]
    }
   ],
   "source": [
    "# 10. Develop a program that prints the first `n` Fibonacci numbers using a `for` loop.\n",
    "# Input: Get the value of n from the user\n",
    "n = int(input(\"Enter the value of n: \"))\n",
    "\n",
    "# Initialize the first two Fibonacci numbers\n",
    "fibonacci_sequence = [0, 1]\n",
    "\n",
    "# Use a for loop to generate the Fibonacci sequence\n",
    "for i in range(2, n):\n",
    "    # Calculate the next Fibonacci number by adding the last two numbers\n",
    "    next_fibonacci = fibonacci_sequence[i - 1] + fibonacci_sequence[i - 2]\n",
    "    # Append the next Fibonacci number to the sequence\n",
    "    fibonacci_sequence.append(next_fibonacci)\n",
    "\n",
    "# Print the first n Fibonacci numbers\n",
    "print(\"The first\", n, \"Fibonacci numbers are:\")\n",
    "for num in fibonacci_sequence:\n",
    "    print(num, end=\" \")\n",
    "\n"
   ]
  },
  {
   "cell_type": "code",
   "execution_count": 16,
   "id": "ff58540b-30c6-4b2e-9e85-924561312621",
   "metadata": {},
   "outputs": [
    {
     "name": "stdout",
     "output_type": "stream",
     "text": [
      "The list contains duplicates.\n"
     ]
    }
   ],
   "source": [
    "# Intermediate Level:\n",
    "# 11. Write a program to check if a given list contains any duplicates using a `for` loop.\n",
    "# Define a list of elements\n",
    "my_list = [1, 2, 2, 3, 4, 5, 6, 7, 8, 9]\n",
    "\n",
    "# Initialize a set to store unique elements\n",
    "unique_elements = set()\n",
    "\n",
    "# Initialize a flag to indicate whether duplicates are found\n",
    "has_duplicates = False\n",
    "\n",
    "# Use a for loop to iterate through the list\n",
    "for element in my_list:\n",
    "    if element in unique_elements:\n",
    "        has_duplicates = True\n",
    "        break\n",
    "    else:\n",
    "        unique_elements.add(element)\n",
    "\n",
    "# Check if duplicates were found and print the result\n",
    "if has_duplicates:\n",
    "    print(\"The list contains duplicates.\")\n",
    "else:\n",
    "    print(\"The list does not contain duplicates.\")\n"
   ]
  },
  {
   "cell_type": "code",
   "execution_count": 18,
   "id": "49280e1a-7141-4bbd-88ab-77068970bd0f",
   "metadata": {},
   "outputs": [
    {
     "name": "stdin",
     "output_type": "stream",
     "text": [
      "Enter the starting number:  0\n",
      "Enter the ending number:  9\n"
     ]
    },
    {
     "name": "stdout",
     "output_type": "stream",
     "text": [
      "Prime numbers between 0 and 9:\n",
      "2 3 5 7 "
     ]
    }
   ],
   "source": [
    "# 12. Create a program that prints the prime numbers in a given range using a `for` loop.\n",
    "# Input: Get the range from the user\n",
    "start = int(input(\"Enter the starting number: \"))\n",
    "end = int(input(\"Enter the ending number: \"))\n",
    "\n",
    "# Function to check if a number is prime\n",
    "def is_prime(number):\n",
    "    if number <= 1:\n",
    "        return False\n",
    "    if number <= 3:\n",
    "        return True\n",
    "    if number % 2 == 0 or number % 3 == 0:\n",
    "        return False\n",
    "    i = 5\n",
    "    while i * i <= number:\n",
    "        if number % i == 0 or number % (i + 2) == 0:\n",
    "            return False\n",
    "        i += 6\n",
    "    return True\n",
    "\n",
    "# Print prime numbers in the given range\n",
    "print(f\"Prime numbers between {start} and {end}:\")\n",
    "for num in range(start, end + 1):\n",
    "    if is_prime(num):\n",
    "        print(num, end=\" \")\n"
   ]
  },
  {
   "cell_type": "code",
   "execution_count": 19,
   "id": "04b167f9-3fc1-405d-973e-dd6163f2e32c",
   "metadata": {},
   "outputs": [
    {
     "name": "stdin",
     "output_type": "stream",
     "text": [
      "Enter a string:  Congratulations\n"
     ]
    },
    {
     "name": "stdout",
     "output_type": "stream",
     "text": [
      "Number of vowels in the string: 6\n"
     ]
    }
   ],
   "source": [
    "# 13. Develop a program that counts the number of vowels in a string using a `for` loop.\n",
    "# Input: Get the string from the user\n",
    "input_string = input(\"Enter a string: \")\n",
    "\n",
    "# Convert the string to lowercase to make it case-insensitive\n",
    "input_string = input_string.lower()\n",
    "\n",
    "# Initialize a variable to store the vowel count\n",
    "vowel_count = 0\n",
    "\n",
    "# Define a set of vowels\n",
    "vowels = \"aeiou\"\n",
    "\n",
    "# Use a for loop to iterate through the characters of the string\n",
    "for char in input_string:\n",
    "    if char in vowels:\n",
    "        vowel_count += 1\n",
    "\n",
    "# Print the vowel count\n",
    "print(\"Number of vowels in the string:\", vowel_count)\n"
   ]
  },
  {
   "cell_type": "code",
   "execution_count": 20,
   "id": "653cb992-4e00-4a7f-bab3-e91e284f0a70",
   "metadata": {},
   "outputs": [
    {
     "name": "stdout",
     "output_type": "stream",
     "text": [
      "Maximum element in the 2D list: 15\n"
     ]
    }
   ],
   "source": [
    "# 14. Write a program to find the maximum element in a 2D list using a nested `for` loop.\n",
    "# Define a 2D list\n",
    "matrix = [\n",
    "    [5, 12, 7],\n",
    "    [3, 9, 14],\n",
    "    [8, 15, 2]\n",
    "]\n",
    "\n",
    "# Initialize a variable to store the maximum element (start with the smallest possible value)\n",
    "max_element = float('-inf')\n",
    "\n",
    "# Use nested for loops to iterate through the 2D list\n",
    "for row in matrix:\n",
    "    for element in row:\n",
    "        if element > max_element:\n",
    "            max_element = element\n",
    "\n",
    "# Print the maximum element\n",
    "print(\"Maximum element in the 2D list:\", max_element)\n"
   ]
  },
  {
   "cell_type": "code",
   "execution_count": 22,
   "id": "2c6da553-5fb1-4b14-ac1d-00c462883561",
   "metadata": {},
   "outputs": [
    {
     "name": "stdin",
     "output_type": "stream",
     "text": [
      "Enter the element to remove:  2\n"
     ]
    },
    {
     "name": "stdout",
     "output_type": "stream",
     "text": [
      "List after removing all occurrences of 2 : [1, 3, 4, 5, 6]\n"
     ]
    }
   ],
   "source": [
    "# 15. Create a program that removes all occurrences of a specific element from a list using a `for` loop.\n",
    "# Define a list\n",
    "my_list = [1, 2, 3, 2, 4, 5, 2, 6]\n",
    "\n",
    "# Input: Get the element to remove from the user\n",
    "element_to_remove = int(input(\"Enter the element to remove: \"))\n",
    "\n",
    "# Use a for loop to remove all occurrences of the element\n",
    "for _ in range(my_list.count(element_to_remove)):\n",
    "    my_list.remove(element_to_remove)\n",
    "\n",
    "# Print the modified list\n",
    "print(\"List after removing all occurrences of\", element_to_remove, \":\", my_list)\n"
   ]
  },
  {
   "cell_type": "code",
   "execution_count": 23,
   "id": "e2730774-c8eb-4fb6-94d9-720a4529b3d9",
   "metadata": {},
   "outputs": [
    {
     "name": "stdout",
     "output_type": "stream",
     "text": [
      "Multiplication table for 1:\n",
      "1 x 1 = 1\n",
      "1 x 2 = 2\n",
      "1 x 3 = 3\n",
      "1 x 4 = 4\n",
      "1 x 5 = 5\n",
      "1 x 6 = 6\n",
      "1 x 7 = 7\n",
      "1 x 8 = 8\n",
      "1 x 9 = 9\n",
      "1 x 10 = 10\n",
      "\n",
      "Multiplication table for 2:\n",
      "2 x 1 = 2\n",
      "2 x 2 = 4\n",
      "2 x 3 = 6\n",
      "2 x 4 = 8\n",
      "2 x 5 = 10\n",
      "2 x 6 = 12\n",
      "2 x 7 = 14\n",
      "2 x 8 = 16\n",
      "2 x 9 = 18\n",
      "2 x 10 = 20\n",
      "\n",
      "Multiplication table for 3:\n",
      "3 x 1 = 3\n",
      "3 x 2 = 6\n",
      "3 x 3 = 9\n",
      "3 x 4 = 12\n",
      "3 x 5 = 15\n",
      "3 x 6 = 18\n",
      "3 x 7 = 21\n",
      "3 x 8 = 24\n",
      "3 x 9 = 27\n",
      "3 x 10 = 30\n",
      "\n",
      "Multiplication table for 4:\n",
      "4 x 1 = 4\n",
      "4 x 2 = 8\n",
      "4 x 3 = 12\n",
      "4 x 4 = 16\n",
      "4 x 5 = 20\n",
      "4 x 6 = 24\n",
      "4 x 7 = 28\n",
      "4 x 8 = 32\n",
      "4 x 9 = 36\n",
      "4 x 10 = 40\n",
      "\n",
      "Multiplication table for 5:\n",
      "5 x 1 = 5\n",
      "5 x 2 = 10\n",
      "5 x 3 = 15\n",
      "5 x 4 = 20\n",
      "5 x 5 = 25\n",
      "5 x 6 = 30\n",
      "5 x 7 = 35\n",
      "5 x 8 = 40\n",
      "5 x 9 = 45\n",
      "5 x 10 = 50\n",
      "\n"
     ]
    }
   ],
   "source": [
    "# 16. Develop a program that generates a multiplication table for numbers from 1 to 5 using a nested `for` loop.\n",
    "# Define the range of numbers for the multiplication table\n",
    "start_num = 1\n",
    "end_num = 5\n",
    "\n",
    "# Use nested for loops to generate the multiplication table\n",
    "for i in range(start_num, end_num + 1):\n",
    "    print(f\"Multiplication table for {i}:\")\n",
    "    for j in range(1, 11):\n",
    "        product = i * j\n",
    "        print(f\"{i} x {j} = {product}\")\n",
    "    print()  # Add a blank line between tables for clarity\n"
   ]
  },
  {
   "cell_type": "code",
   "execution_count": 24,
   "id": "fd27d09e-c8ec-40ab-a0db-6cb9b745cc44",
   "metadata": {},
   "outputs": [
    {
     "name": "stdout",
     "output_type": "stream",
     "text": [
      "Fahrenheit Temperatures: [32, 68, 77, 104, 212]\n",
      "Celsius Temperatures: [0.0, 20.0, 25.0, 40.0, 100.0]\n"
     ]
    }
   ],
   "source": [
    "# 17. Write a program that converts a list of Fahrenheit temperatures to Celsius using a `for` loop.\n",
    "# Define a list of Fahrenheit temperatures\n",
    "fahrenheit_temperatures = [32, 68, 77, 104, 212]\n",
    "\n",
    "# Initialize an empty list to store Celsius temperatures\n",
    "celsius_temperatures = []\n",
    "\n",
    "# Conversion formula: Celsius = (Fahrenheit - 32) * 5/9\n",
    "\n",
    "# Use a for loop to convert each Fahrenheit temperature to Celsius\n",
    "for fahrenheit in fahrenheit_temperatures:\n",
    "    celsius = (fahrenheit - 32) * 5/9\n",
    "    celsius_temperatures.append(celsius)\n",
    "\n",
    "# Print the converted Celsius temperatures\n",
    "print(\"Fahrenheit Temperatures:\", fahrenheit_temperatures)\n",
    "print(\"Celsius Temperatures:\", celsius_temperatures)\n"
   ]
  },
  {
   "cell_type": "code",
   "execution_count": 30,
   "id": "229be548-e06f-4973-b600-e8679c684f46",
   "metadata": {},
   "outputs": [
    {
     "name": "stdout",
     "output_type": "stream",
     "text": [
      "Common elements between list1 and list2: [3, 4, 5]\n"
     ]
    }
   ],
   "source": [
    "# 18. Create a program to print the common elements from two lists using a `for` loop.\n",
    "# Define two lists\n",
    "list1 = [1, 2, 3, 4, 5]\n",
    "list2 = [3, 4, 5, 6, 7]\n",
    "\n",
    "# Initialize an empty list to store common elements\n",
    "common_elements = []\n",
    "\n",
    "# Use a for loop to iterate through elements in list1\n",
    "for element1 in list1:\n",
    "    # Check if the element is also in list2\n",
    "    if element1 in list2:\n",
    "        common_elements.append(element1)\n",
    "\n",
    "# Print the common elements\n",
    "print(\"Common elements between list1 and list2:\", common_elements)\n"
   ]
  },
  {
   "cell_type": "code",
   "execution_count": 33,
   "id": "72b9a58f-bede-4069-8f38-fc892d726123",
   "metadata": {},
   "outputs": [
    {
     "name": "stdin",
     "output_type": "stream",
     "text": [
      "Enter the number of rows:  9\n"
     ]
    },
    {
     "name": "stdout",
     "output_type": "stream",
     "text": [
      "*\n",
      "**\n",
      "***\n",
      "****\n",
      "*****\n",
      "******\n",
      "*******\n",
      "********\n",
      "*********\n"
     ]
    }
   ],
   "source": [
    "# 19. Develop a program that prints the pattern of right-angled triangles using a `for` loop. Use ‘*’ to draw the pattern\n",
    "# Input: Get the number of rows for the triangle from the user\n",
    "n = int(input(\"Enter the number of rows: \"))\n",
    "\n",
    "# Use a for loop to print the right-angled triangle pattern\n",
    "for i in range(1, n + 1):\n",
    "    # Print '*' characters for the current row\n",
    "    for j in range(i):\n",
    "        print('*', end='')\n",
    "    # Move to the next line for the next row\n",
    "    print()\n"
   ]
  },
  {
   "cell_type": "code",
   "execution_count": 35,
   "id": "27a3c59a-acbc-43e3-8336-c4a8ad219ca6",
   "metadata": {},
   "outputs": [
    {
     "name": "stdin",
     "output_type": "stream",
     "text": [
      "Enter the first number:  24\n",
      "Enter the second number:  27\n"
     ]
    },
    {
     "name": "stdout",
     "output_type": "stream",
     "text": [
      "The Greatest Common Divisor (GCD) is: 3\n"
     ]
    }
   ],
   "source": [
    "# 20. Write a program to find the greatest common divisor (GCD) of two numbers using a `for` loop.\n",
    "# Input: Get the two numbers from the user\n",
    "num1 = int(input(\"Enter the first number: \"))\n",
    "num2 = int(input(\"Enter the second number: \"))\n",
    "\n",
    "# Ensure num1 is greater than or equal to num2\n",
    "if num1 < num2:\n",
    "    num1, num2 = num2, num1\n",
    "\n",
    "# Use a for loop to calculate the GCD\n",
    "while num2 != 0:\n",
    "    remainder = num1 % num2\n",
    "    num1 = num2\n",
    "    num2 = remainder\n",
    "\n",
    "# The GCD is stored in num1\n",
    "gcd = num1\n",
    "\n",
    "# Print the GCD\n",
    "print(\"The Greatest Common Divisor (GCD) is:\", gcd)\n"
   ]
  },
  {
   "cell_type": "code",
   "execution_count": 36,
   "id": "e12123f1-e4cc-4f37-ab6b-1eed2be51f64",
   "metadata": {},
   "outputs": [
    {
     "name": "stdout",
     "output_type": "stream",
     "text": [
      "Sums of digits for each number: [6, 15, 24, 3, 7]\n"
     ]
    }
   ],
   "source": [
    "# Advanced Level:\n",
    "# 21. Create a program that calculates the sum of the digits of numbers in a list using a list comprehension.\n",
    "# Define a list of numbers\n",
    "numbers = [123, 456, 789, 12, 34]\n",
    "\n",
    "# Define a function to calculate the sum of digits in a number\n",
    "def sum_of_digits(number):\n",
    "    return sum(int(digit) for digit in str(number))\n",
    "\n",
    "# Use a list comprehension to calculate the sum of digits for each number in the list\n",
    "sums = [sum_of_digits(number) for number in numbers]\n",
    "\n",
    "# Print the sums\n",
    "print(\"Sums of digits for each number:\", sums)\n"
   ]
  },
  {
   "cell_type": "code",
   "execution_count": 38,
   "id": "e1842a3c-0178-48d2-aa65-dfa2df9fcdb3",
   "metadata": {},
   "outputs": [
    {
     "name": "stdin",
     "output_type": "stream",
     "text": [
      "Enter a number:  9\n"
     ]
    },
    {
     "name": "stdout",
     "output_type": "stream",
     "text": [
      "Prime factors of 9 are: [3]\n"
     ]
    }
   ],
   "source": [
    "# 22. Write a program to find the prime factors of a given number using a `for` loop and list comprehension.\n",
    "# Input: Get the number from the user\n",
    "number = int(input(\"Enter a number: \"))\n",
    "\n",
    "# Function to check if a number is prime\n",
    "def is_prime(num):\n",
    "    if num < 2:\n",
    "        return False\n",
    "    for i in range(2, int(num**0.5) + 1):\n",
    "        if num % i == 0:\n",
    "            return False\n",
    "    return True\n",
    "\n",
    "# Use a list comprehension to find the prime factors\n",
    "prime_factors = [x for x in range(2, number + 1) if number % x == 0 and is_prime(x)]\n",
    "\n",
    "# Print the prime factors\n",
    "print(\"Prime factors of\", number, \"are:\", prime_factors)\n"
   ]
  },
  {
   "cell_type": "code",
   "execution_count": 39,
   "id": "d4da6117-3f66-48bb-a536-cfd15dcae693",
   "metadata": {},
   "outputs": [
    {
     "name": "stdout",
     "output_type": "stream",
     "text": [
      "Original List: [1, 2, 2, 3, 4, 4, 5, 5, 5]\n",
      "Unique Elements: [1, 2, 3, 4, 5]\n"
     ]
    }
   ],
   "source": [
    "# 23. Develop a program that extracts unique elements from a list and stores them in a new list using a list comprehension.\n",
    "# Define a list with duplicate elements\n",
    "original_list = [1, 2, 2, 3, 4, 4, 5, 5, 5]\n",
    "\n",
    "# Use a list comprehension to extract unique elements\n",
    "unique_list = []\n",
    "\n",
    "[unique_list.append(x) for x in original_list if x not in unique_list]\n",
    "\n",
    "# Print the unique elements\n",
    "print(\"Original List:\", original_list)\n",
    "print(\"Unique Elements:\", unique_list)\n"
   ]
  },
  {
   "cell_type": "code",
   "execution_count": 40,
   "id": "24b0fa8f-adee-4856-9afb-490482f49f28",
   "metadata": {},
   "outputs": [
    {
     "name": "stdin",
     "output_type": "stream",
     "text": [
      "Enter the upper limit:  5\n"
     ]
    },
    {
     "name": "stdout",
     "output_type": "stream",
     "text": [
      "Palindromic numbers up to 5 are: [1, 2, 3, 4, 5]\n"
     ]
    }
   ],
   "source": [
    "# 24. Create a program that generates a list of all palindromic numbers up to a specified limit using a list comprehension.\n",
    "# Input: Get the upper limit from the user\n",
    "limit = int(input(\"Enter the upper limit: \"))\n",
    "\n",
    "# Use a list comprehension to generate palindromic numbers\n",
    "palindromic_numbers = [num for num in range(1, limit + 1) if str(num) == str(num)[::-1]]\n",
    "\n",
    "# Print the list of palindromic numbers\n",
    "print(\"Palindromic numbers up to\", limit, \"are:\", palindromic_numbers)\n"
   ]
  },
  {
   "cell_type": "code",
   "execution_count": 41,
   "id": "f98ac6b7-6227-49fa-a0d2-43ee1c4e914c",
   "metadata": {},
   "outputs": [
    {
     "name": "stdout",
     "output_type": "stream",
     "text": [
      "Nested List: [[1, 2, 3], [4, 5], [6, 7, 8]]\n",
      "Flattened List: [1, 2, 3, 4, 5, 6, 7, 8]\n"
     ]
    }
   ],
   "source": [
    "# 25. Write a program to flatten a nested list using list comprehension.\n",
    "# Define a nested list\n",
    "nested_list = [[1, 2, 3], [4, 5], [6, 7, 8]]\n",
    "\n",
    "# Use list comprehension to flatten the nested list\n",
    "flattened_list = [element for sublist in nested_list for element in sublist]\n",
    "\n",
    "# Print the flattened list\n",
    "print(\"Nested List:\", nested_list)\n",
    "print(\"Flattened List:\", flattened_list)\n"
   ]
  },
  {
   "cell_type": "code",
   "execution_count": 50,
   "id": "82667839-390e-4922-8517-acae213b075f",
   "metadata": {},
   "outputs": [
    {
     "name": "stdout",
     "output_type": "stream",
     "text": [
      "Numbers: [1, 2, 3, 4, 5, 6, 7, 8, 9]\n",
      "Sum of even numbers: 20\n",
      "Sum of odd numbers: 25\n"
     ]
    }
   ],
   "source": [
    "# 26. Develop a program that computes the sum of even and odd numbers in a list separately using list comprehension.\n",
    "# Define a list of numbers\n",
    "numbers = [1, 2, 3, 4, 5, 6, 7, 8, 9]\n",
    "\n",
    "# Use list comprehension to compute the sum of even and odd numbers separately\n",
    "even_sum = sum(x for x in numbers if x % 2 == 0)\n",
    "odd_sum = sum(x for x in numbers if x % 2 != 0)\n",
    "\n",
    "# Print the sums\n",
    "print(\"Numbers:\", numbers)\n",
    "print(\"Sum of even numbers:\", even_sum)\n",
    "print(\"Sum of odd numbers:\", odd_sum)\n"
   ]
  },
  {
   "cell_type": "code",
   "execution_count": 51,
   "id": "229acf76-415a-4320-9efe-b53fcd89ffae",
   "metadata": {},
   "outputs": [
    {
     "name": "stdout",
     "output_type": "stream",
     "text": [
      "Squares of odd numbers between 1 and 10: [1, 9, 25, 49, 81]\n"
     ]
    }
   ],
   "source": [
    "# 27. Create a program that generates a list of squares of odd numbers between 1 and 10 using list comprehension.\n",
    "# Use list comprehension to generate squares of odd numbers\n",
    "squares_of_odd_numbers = [x**2 for x in range(1, 11) if x % 2 != 0]\n",
    "\n",
    "# Print the list of squares\n",
    "print(\"Squares of odd numbers between 1 and 10:\", squares_of_odd_numbers)\n"
   ]
  },
  {
   "cell_type": "code",
   "execution_count": 52,
   "id": "03b3a4c0-c912-44cb-a1a2-f5351875e2b6",
   "metadata": {},
   "outputs": [
    {
     "name": "stdout",
     "output_type": "stream",
     "text": [
      "Combined Dictionary: {'name': 'Alice', 'age': 30, 'city': 'New York'}\n"
     ]
    }
   ],
   "source": [
    "# 28. Write a program that combines two lists into a dictionary using list comprehension.\n",
    "# Define two lists\n",
    "keys = [\"name\", \"age\", \"city\"]\n",
    "values = [\"Alice\", 30, \"New York\"]\n",
    "\n",
    "# Use list comprehension to combine lists into a dictionary\n",
    "combined_dict = {keys[i]: values[i] for i in range(min(len(keys), len(values)))}\n",
    "\n",
    "# Print the combined dictionary\n",
    "print(\"Combined Dictionary:\", combined_dict)\n"
   ]
  },
  {
   "cell_type": "code",
   "execution_count": 53,
   "id": "c1e22d6a-e4fa-48a0-b100-668a4c9adb15",
   "metadata": {},
   "outputs": [
    {
     "name": "stdin",
     "output_type": "stream",
     "text": [
      "Enter a string:  Amazing\n"
     ]
    },
    {
     "name": "stdout",
     "output_type": "stream",
     "text": [
      "Vowels in the string: ['A', 'a', 'i']\n"
     ]
    }
   ],
   "source": [
    "# 29. Develop a program that extracts the vowels from a string and stores them in a list using list comprehension.\n",
    "# Input: Get the string from the user\n",
    "input_string = input(\"Enter a string: \")\n",
    "\n",
    "# Define a list of vowels\n",
    "vowels = \"aeiouAEIOU\"\n",
    "\n",
    "# Use list comprehension to extract vowels from the string\n",
    "vowel_list = [char for char in input_string if char in vowels]\n",
    "\n",
    "# Print the list of vowels\n",
    "print(\"Vowels in the string:\", vowel_list)\n"
   ]
  },
  {
   "cell_type": "code",
   "execution_count": 54,
   "id": "4a56da22-cb41-40d6-9bb6-5a387c8b1ced",
   "metadata": {},
   "outputs": [
    {
     "name": "stdout",
     "output_type": "stream",
     "text": [
      "Original List: ['abc123', '456xyz', '789', 'abc', '123def']\n",
      "Numeric Strings: ['123', '456', '789', '', '123']\n"
     ]
    }
   ],
   "source": [
    "# 30. Create a program that removes all non-numeric characters from a list of strings using list comprehension.\n",
    "# Define a list of strings with non-numeric characters\n",
    "string_list = [\"abc123\", \"456xyz\", \"789\", \"abc\", \"123def\"]\n",
    "\n",
    "# Use list comprehension to remove non-numeric characters\n",
    "numeric_strings = [''.join(char for char in string if char.isdigit()) for string in string_list]\n",
    "\n",
    "# Print the list of numeric strings\n",
    "print(\"Original List:\", string_list)\n",
    "print(\"Numeric Strings:\", numeric_strings)\n"
   ]
  },
  {
   "cell_type": "code",
   "execution_count": 55,
   "id": "e4070355-636a-496d-97d7-7520528c2606",
   "metadata": {},
   "outputs": [
    {
     "name": "stdin",
     "output_type": "stream",
     "text": [
      "Enter an upper limit for prime numbers:  8\n"
     ]
    },
    {
     "name": "stdout",
     "output_type": "stream",
     "text": [
      "Prime numbers up to 8 are: [2, 3, 5, 7]\n"
     ]
    }
   ],
   "source": [
    "# Challenge Level:\n",
    "# 31. Write a program to generate a list of prime numbers using the Sieve of Eratosthenes algorithm and list comprehension.\n",
    "# Input: Get the upper limit for prime numbers from the user\n",
    "limit = int(input(\"Enter an upper limit for prime numbers: \"))\n",
    "\n",
    "# Create a boolean list to mark prime and non-prime numbers\n",
    "is_prime = [True] * (limit + 1)\n",
    "is_prime[0] = is_prime[1] = False  # 0 and 1 are not prime\n",
    "\n",
    "# Implement the Sieve of Eratosthenes algorithm\n",
    "for current_num in range(2, int(limit**0.5) + 1):\n",
    "    if is_prime[current_num]:\n",
    "        for multiple in range(current_num * current_num, limit + 1, current_num):\n",
    "            is_prime[multiple] = False\n",
    "\n",
    "# Use list comprehension to generate the list of prime numbers\n",
    "prime_numbers = [num for num in range(2, limit + 1) if is_prime[num]]\n",
    "\n",
    "# Print the list of prime numbers\n",
    "print(\"Prime numbers up to\", limit, \"are:\", prime_numbers)\n"
   ]
  },
  {
   "cell_type": "code",
   "execution_count": 56,
   "id": "36b75264-ff1e-4f83-bea7-64e8c477208e",
   "metadata": {},
   "outputs": [
    {
     "name": "stdin",
     "output_type": "stream",
     "text": [
      "Enter an upper limit for Pythagorean triplets:  6\n"
     ]
    },
    {
     "name": "stdout",
     "output_type": "stream",
     "text": [
      "Pythagorean triplets up to 6 are: [(3, 4, 5)]\n"
     ]
    }
   ],
   "source": [
    "# 32. Create a program that generates a list of all Pythagorean triplets up to a specified limit using list comprehension.\n",
    "# Input: Get the upper limit for Pythagorean triplets from the user\n",
    "limit = int(input(\"Enter an upper limit for Pythagorean triplets: \"))\n",
    "\n",
    "# Use list comprehension to generate Pythagorean triplets\n",
    "pythagorean_triplets = [(a, b, c) for a in range(1, limit + 1)\n",
    "                         for b in range(a, limit + 1)\n",
    "                         for c in range(b, limit + 1)\n",
    "                         if a**2 + b**2 == c**2]\n",
    "\n",
    "# Print the list of Pythagorean triplets\n",
    "print(\"Pythagorean triplets up to\", limit, \"are:\", pythagorean_triplets)\n"
   ]
  },
  {
   "cell_type": "code",
   "execution_count": 57,
   "id": "9373ba1a-0da5-404b-9d7e-8ad0bbd78524",
   "metadata": {},
   "outputs": [
    {
     "name": "stdout",
     "output_type": "stream",
     "text": [
      "Combinations of list1 and list2 are: [(1, 'a'), (1, 'b'), (1, 'c'), (2, 'a'), (2, 'b'), (2, 'c'), (3, 'a'), (3, 'b'), (3, 'c')]\n"
     ]
    }
   ],
   "source": [
    "# 33. Develop a program that generates a list of all possible combinations of two lists using list comprehension.\n",
    "# Define two lists\n",
    "list1 = [1, 2, 3]\n",
    "list2 = ['a', 'b', 'c']\n",
    "\n",
    "# Use list comprehension to generate combinations of two lists\n",
    "combinations = [(x, y) for x in list1 for y in list2]\n",
    "\n",
    "# Print the list of combinations\n",
    "print(\"Combinations of list1 and list2 are:\", combinations)\n"
   ]
  },
  {
   "cell_type": "code",
   "execution_count": 58,
   "id": "78178276-c268-4b33-ada5-587dee4b4d4f",
   "metadata": {},
   "outputs": [
    {
     "name": "stdout",
     "output_type": "stream",
     "text": [
      "List of numbers: [1, 2, 2, 3, 4, 5, 4, 3, 2, 1]\n",
      "Mean: 2.7\n",
      "Median: 2.5\n",
      "Mode: [2]\n"
     ]
    }
   ],
   "source": [
    "# 34. Write a program that calculates the mean, median, and mode of a list of numbers using list comprehension.\n",
    "# Define a list of numbers\n",
    "numbers = [1, 2, 2, 3, 4, 5, 4, 3, 2, 1]\n",
    "\n",
    "# Calculate the mean using list comprehension\n",
    "mean_value = sum(numbers) / len(numbers)\n",
    "\n",
    "# Calculate the median using list comprehension\n",
    "sorted_numbers = sorted(numbers)\n",
    "n = len(sorted_numbers)\n",
    "if n % 2 == 0:\n",
    "    median_value = (sorted_numbers[n // 2 - 1] + sorted_numbers[n // 2]) / 2\n",
    "else:\n",
    "    median_value = sorted_numbers[n // 2]\n",
    "\n",
    "# Calculate the mode using list comprehension\n",
    "count_dict = {num: numbers.count(num) for num in set(numbers)}\n",
    "mode_value = [key for key, value in count_dict.items() if value == max(count_dict.values())]\n",
    "\n",
    "# Print the results\n",
    "print(\"List of numbers:\", numbers)\n",
    "print(\"Mean:\", mean_value)\n",
    "print(\"Median:\", median_value)\n",
    "print(\"Mode:\", mode_value)\n"
   ]
  },
  {
   "cell_type": "code",
   "execution_count": 62,
   "id": "eaa09b2f-f447-4c1d-ae03-afa3f2720375",
   "metadata": {},
   "outputs": [
    {
     "name": "stdin",
     "output_type": "stream",
     "text": [
      "Enter the number of rows for Pascal's triangle:  6\n"
     ]
    },
    {
     "name": "stdout",
     "output_type": "stream",
     "text": [
      "     1     \n",
      "    1 1    \n",
      "   1 2 1   \n",
      "  1 3 3 1  \n",
      " 1 4 6 4 1 \n",
      "1 5 10 10 5 1\n"
     ]
    }
   ],
   "source": [
    "# 35. Create a program that generates Pascal's triangle up to a specified number of rows using list comprehension.\n",
    "# Input: Get the number of rows for Pascal's triangle from the user\n",
    "num_rows = int(input(\"Enter the number of rows for Pascal's triangle: \"))\n",
    "\n",
    "# Function to calculate the next row of Pascal's triangle\n",
    "def generate_next_row(previous_row):\n",
    "    return [1] + [previous_row[i] + previous_row[i + 1] for i in range(len(previous_row) - 1)] + [1]\n",
    "\n",
    "# Initialize Pascal's triangle with the first row\n",
    "pascals_triangle = [[1]]\n",
    "\n",
    "# Use list comprehension to generate Pascal's triangle\n",
    "[pascals_triangle.append(generate_next_row(pascals_triangle[-1])) for _ in range(num_rows - 1)]\n",
    "\n",
    "# Print Pascal's triangle\n",
    "for row in pascals_triangle:\n",
    "    print(' '.join(map(str, row)).center(num_rows * 2 - 1))\n",
    "\n"
   ]
  },
  {
   "cell_type": "code",
   "execution_count": 63,
   "id": "c97fad16-a5da-483c-8166-a41074ec3a91",
   "metadata": {},
   "outputs": [
    {
     "name": "stdout",
     "output_type": "stream",
     "text": [
      "Sum of digits of 1!: 1\n",
      "Sum of digits of 2!: 2\n",
      "Sum of digits of 3!: 6\n",
      "Sum of digits of 4!: 6\n",
      "Sum of digits of 5!: 3\n"
     ]
    }
   ],
   "source": [
    "# 36. Develop a program that calculates the sum of the digits of a factorial of numbers from 1 to 5 using list comprehension.\n",
    "# Function to calculate the factorial of a number\n",
    "def factorial(n):\n",
    "    if n == 0 or n == 1:\n",
    "        return 1\n",
    "    else:\n",
    "        return n * factorial(n - 1)\n",
    "\n",
    "# Use list comprehension to calculate and sum the digits of factorial results\n",
    "results = [sum(int(digit) for digit in str(factorial(i))) for i in range(1, 6)]\n",
    "\n",
    "# Print the results\n",
    "for i, result in enumerate(results, start=1):\n",
    "    print(f\"Sum of digits of {i}!:\", result)"
   ]
  },
  {
   "cell_type": "code",
   "execution_count": 64,
   "id": "db7528be-425b-4822-9dc8-7029d136d643",
   "metadata": {},
   "outputs": [
    {
     "name": "stdin",
     "output_type": "stream",
     "text": [
      "Enter a sentence:  Nice to meet you\n"
     ]
    },
    {
     "name": "stdout",
     "output_type": "stream",
     "text": [
      "Longest word in the sentence: Nice\n"
     ]
    }
   ],
   "source": [
    "# 37. Write a program that finds the longest word in a sentence using list comprehension.\n",
    "# Input: Get a sentence from the user\n",
    "sentence = input(\"Enter a sentence: \")\n",
    "\n",
    "# Use list comprehension to split the sentence into words\n",
    "words = sentence.split()\n",
    "\n",
    "# Find the longest word using list comprehension\n",
    "longest_word = max(words, key=lambda word: len(word))\n",
    "\n",
    "# Print the longest word\n",
    "print(\"Longest word in the sentence:\", longest_word)\n"
   ]
  },
  {
   "cell_type": "code",
   "execution_count": 65,
   "id": "8577fb32-36a3-4993-b2d1-85fdaec18c69",
   "metadata": {},
   "outputs": [
    {
     "name": "stdout",
     "output_type": "stream",
     "text": [
      "Original List: ['hello', 'world', 'programming', 'python', 'ai', 'openai']\n",
      "Strings with more than three vowels: ['openai']\n"
     ]
    }
   ],
   "source": [
    "# 38. Create a program that filters a list of strings to include only those with more than three vowels using list comprehension.\n",
    "# Define a list of strings\n",
    "string_list = [\"hello\", \"world\", \"programming\", \"python\", \"ai\", \"openai\"]\n",
    "\n",
    "# Function to count vowels in a string\n",
    "def count_vowels(s):\n",
    "    return sum(1 for char in s if char in \"aeiouAEIOU\")\n",
    "\n",
    "# Use list comprehension to filter strings with more than three vowels\n",
    "filtered_strings = [s for s in string_list if count_vowels(s) > 3]\n",
    "\n",
    "# Print the filtered strings\n",
    "print(\"Original List:\", string_list)\n",
    "print(\"Strings with more than three vowels:\", filtered_strings)\n"
   ]
  },
  {
   "cell_type": "code",
   "execution_count": 66,
   "id": "37de40fc-d7ab-478a-9002-933a0a0eb213",
   "metadata": {},
   "outputs": [
    {
     "name": "stdout",
     "output_type": "stream",
     "text": [
      "Total sum of digits from 1 to 1000: 13501\n"
     ]
    }
   ],
   "source": [
    "# 39. Develop a program that calculates the sum of the digits of numbers from 1 to 1000 using list comprehension.\n",
    "# Use list comprehension to calculate and sum the digits of numbers from 1 to 1000\n",
    "digit_sums = [sum(int(digit) for digit in str(number)) for number in range(1, 1001)]\n",
    "\n",
    "# Calculate the total sum of digit sums\n",
    "total_sum = sum(digit_sums)\n",
    "\n",
    "# Print the total sum\n",
    "print(\"Total sum of digits from 1 to 1000:\", total_sum)\n"
   ]
  },
  {
   "cell_type": "code",
   "execution_count": 67,
   "id": "885fcaa2-c5f5-46e5-b94f-6d4ddaa94adf",
   "metadata": {},
   "outputs": [
    {
     "name": "stdout",
     "output_type": "stream",
     "text": [
      "Prime palindromic numbers up to 1000: [2, 3, 5, 7, 11, 101, 131, 151, 181, 191, 313, 353, 373, 383, 727, 757, 787, 797, 919, 929]\n"
     ]
    }
   ],
   "source": [
    "# 40. Write a program that generates a list of prime palindromic numbers using list comprehension.\n",
    "# Function to check if a number is prime\n",
    "def is_prime(n):\n",
    "    if n <= 1:\n",
    "        return False\n",
    "    if n <= 3:\n",
    "        return True\n",
    "    if n % 2 == 0 or n % 3 == 0:\n",
    "        return False\n",
    "    i = 5\n",
    "    while i * i <= n:\n",
    "        if n % i == 0 or n % (i + 2) == 0:\n",
    "            return False\n",
    "        i += 6\n",
    "    return True\n",
    "\n",
    "# Use list comprehension to generate prime palindromic numbers\n",
    "prime_palindromic_numbers = [x for x in range(1, 1000) if is_prime(x) and str(x) == str(x)[::-1]]\n",
    "\n",
    "# Print the list of prime palindromic numbers\n",
    "print(\"Prime palindromic numbers up to 1000:\", prime_palindromic_numbers)\n"
   ]
  },
  {
   "cell_type": "code",
   "execution_count": null,
   "id": "71b82018-7b0f-42f7-9959-fcf643398123",
   "metadata": {},
   "outputs": [],
   "source": []
  }
 ],
 "metadata": {
  "kernelspec": {
   "display_name": "Python 3 (ipykernel)",
   "language": "python",
   "name": "python3"
  },
  "language_info": {
   "codemirror_mode": {
    "name": "ipython",
    "version": 3
   },
   "file_extension": ".py",
   "mimetype": "text/x-python",
   "name": "python",
   "nbconvert_exporter": "python",
   "pygments_lexer": "ipython3",
   "version": "3.10.8"
  }
 },
 "nbformat": 4,
 "nbformat_minor": 5
}
